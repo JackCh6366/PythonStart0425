{
 "cells": [
  {
   "cell_type": "markdown",
   "id": "599bdb63",
   "metadata": {},
   "source": [
    "# 讀取檔案\n"
   ]
  },
  {
   "cell_type": "code",
   "execution_count": 5,
   "id": "e97fb0a3",
   "metadata": {},
   "outputs": [
    {
     "data": {
      "text/plain": [
       "299"
      ]
     },
     "execution_count": 5,
     "metadata": {},
     "output_type": "execute_result"
    }
   ],
   "source": [
    "file = open('names.txt',encoding='utf-8')\n",
    "content:str = file.read()\n",
    "names:list[str] = content.split()\n",
    "len(names)"
   ]
  }
 ],
 "metadata": {
  "kernelspec": {
   "display_name": ".venv",
   "language": "python",
   "name": "python3"
  },
  "language_info": {
   "codemirror_mode": {
    "name": "ipython",
    "version": 3
   },
   "file_extension": ".py",
   "mimetype": "text/x-python",
   "name": "python",
   "nbconvert_exporter": "python",
   "pygments_lexer": "ipython3",
   "version": "3.13.2"
  }
 },
 "nbformat": 4,
 "nbformat_minor": 5
}
