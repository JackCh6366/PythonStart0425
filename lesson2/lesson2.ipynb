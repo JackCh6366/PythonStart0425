{
 "cells": [
  {
   "cell_type": "code",
   "execution_count": 1,
   "id": "581bd677",
   "metadata": {},
   "outputs": [
    {
     "name": "stdout",
     "output_type": "stream",
     "text": [
      "hello! Pythom\n"
     ]
    }
   ],
   "source": [
    "print(\"hello! Pythom\")"
   ]
  },
  {
   "cell_type": "code",
   "execution_count": 2,
   "id": "ba3fd41f",
   "metadata": {},
   "outputs": [],
   "source": [
    "def menu(wine, entree, dessert):\n",
    "    print(\"wine\",wine,\"entree\",entree,\"dessert\",dessert)\n",
    "    "
   ]
  },
  {
   "cell_type": "markdown",
   "id": "e800b210",
   "metadata": {},
   "source": [
    "### 呼叫funtion呼叫funtion"
   ]
  }
 ],
 "metadata": {
  "kernelspec": {
   "display_name": ".venv",
   "language": "python",
   "name": "python3"
  },
  "language_info": {
   "codemirror_mode": {
    "name": "ipython",
    "version": 3
   },
   "file_extension": ".py",
   "mimetype": "text/x-python",
   "name": "python",
   "nbconvert_exporter": "python",
   "pygments_lexer": "ipython3",
   "version": "3.13.2"
  }
 },
 "nbformat": 4,
 "nbformat_minor": 5
}
