{
 "cells": [
  {
   "cell_type": "code",
   "execution_count": 1,
   "id": "581bd677",
   "metadata": {},
   "outputs": [
    {
     "name": "stdout",
     "output_type": "stream",
     "text": [
      "hello! Pythom\n"
     ]
    }
   ],
   "source": [
    "print(\"hello! Pythom\")"
   ]
  },
  {
   "cell_type": "code",
   "execution_count": 2,
   "id": "ba3fd41f",
   "metadata": {},
   "outputs": [],
   "source": [
    "def menu(wine, entree, dessert):\n",
    "    print(\"wine\",wine,\"entree\",entree,\"dessert\",dessert)\n",
    "    "
   ]
  },
  {
   "cell_type": "code",
   "execution_count": 3,
   "id": "4f6724df",
   "metadata": {},
   "outputs": [
    {
     "name": "stdout",
     "output_type": "stream",
     "text": [
      "wine 紅酒 entree 龍蝦堡 dessert 冰淇淋\n"
     ]
    }
   ],
   "source": [
    "# 引數值的呼叫 (依照順序)\n",
    "menu('紅酒','龍蝦堡','冰淇淋')"
   ]
  },
  {
   "cell_type": "code",
   "execution_count": 16,
   "id": "8eb84c61",
   "metadata": {},
   "outputs": [
    {
     "ename": "TypeError",
     "evalue": "menu() missing 2 required positional arguments: 'entree' and 'dessert'",
     "output_type": "error",
     "traceback": [
      "\u001b[31m---------------------------------------------------------------------------\u001b[39m",
      "\u001b[31mTypeError\u001b[39m                                 Traceback (most recent call last)",
      "\u001b[36mCell\u001b[39m\u001b[36m \u001b[39m\u001b[32mIn[16]\u001b[39m\u001b[32m, line 2\u001b[39m\n\u001b[32m      1\u001b[39m \u001b[38;5;66;03m# 假如只有給一或兩個值(會出錯)\u001b[39;00m\n\u001b[32m----> \u001b[39m\u001b[32m2\u001b[39m \u001b[43mmenu\u001b[49m\u001b[43m(\u001b[49m\u001b[33;43m'\u001b[39;49m\u001b[33;43m紅酒\u001b[39;49m\u001b[33;43m'\u001b[39;49m\u001b[43m)\u001b[49m\n",
      "\u001b[31mTypeError\u001b[39m: menu() missing 2 required positional arguments: 'entree' and 'dessert'"
     ]
    }
   ],
   "source": [
    "# 假如只有給一或兩個值(會出錯)\n",
    "menu('紅酒')"
   ]
  },
  {
   "cell_type": "code",
   "execution_count": 11,
   "id": "906bbb51",
   "metadata": {},
   "outputs": [],
   "source": [
    "def menu(wine:str, entree:str, dessert:str) -> dict:\n",
    "    return {\"wine\":wine,\n",
    "           \"entree\":entree,\n",
    "           \"dessert\":dessert}"
   ]
  },
  {
   "cell_type": "code",
   "execution_count": null,
   "id": "6d6cd6ef",
   "metadata": {},
   "outputs": [
    {
     "data": {
      "text/plain": [
       "{'wine': '果汁', 'entree': '義大利麵', 'dessert': '布丁'}"
      ]
     },
     "execution_count": 17,
     "metadata": {},
     "output_type": "execute_result"
    }
   ],
   "source": [
    "# 引數值的呼叫\n",
    "pk:dict = menu(\"果汁\",\"義大利麵\",\"布丁\")\n",
    "pk"
   ]
  },
  {
   "cell_type": "code",
   "execution_count": 18,
   "id": "200feebf",
   "metadata": {},
   "outputs": [
    {
     "data": {
      "text/plain": [
       "{'wine': '果汁', 'entree': '義大利麵', 'dessert': '布丁'}"
      ]
     },
     "execution_count": 18,
     "metadata": {},
     "output_type": "execute_result"
    }
   ],
   "source": [
    "# 引數名稱的呼叫 (可以不依順序)\n",
    "pk:dict = menu(entree='義大利麵',wine='果汁',dessert='布丁')\n",
    "pk"
   ]
  },
  {
   "cell_type": "markdown",
   "id": "e800b210",
   "metadata": {},
   "source": [
    "### 呼叫funtion呼叫funtion"
   ]
  }
 ],
 "metadata": {
  "kernelspec": {
   "display_name": ".venv",
   "language": "python",
   "name": "python3"
  },
  "language_info": {
   "codemirror_mode": {
    "name": "ipython",
    "version": 3
   },
   "file_extension": ".py",
   "mimetype": "text/x-python",
   "name": "python",
   "nbconvert_exporter": "python",
   "pygments_lexer": "ipython3",
   "version": "3.13.2"
  }
 },
 "nbformat": 4,
 "nbformat_minor": 5
}
