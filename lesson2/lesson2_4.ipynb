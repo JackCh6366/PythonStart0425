{
 "cells": [
  {
   "cell_type": "code",
   "execution_count": 2,
   "id": "1cd53202",
   "metadata": {},
   "outputs": [],
   "source": [
    "weeks:dict ={\"monday\":1,\n",
    "            \"tuesdat\":2,\n",
    "            \"wendnesday\":3,\n",
    "            \"thursday\":4,\n",
    "            \"friday\":5,\n",
    "            \"sturday\":6,\n",
    "            \"sunday\":7\n",
    "            }"
   ]
  },
  {
   "cell_type": "code",
   "execution_count": 3,
   "id": "fa7f8248",
   "metadata": {},
   "outputs": [],
   "source": [
    "\n",
    "weeks.get('thursday')\n",
    "weeks.get('wednesday')\n",
    "weeks.get('eight')\n"
   ]
  },
  {
   "cell_type": "code",
   "execution_count": 4,
   "id": "680946b7",
   "metadata": {},
   "outputs": [
    {
     "data": {
      "text/plain": [
       "['monday', 'tuesdat', 'wendnesday', 'thursday', 'friday', 'sturday', 'sunday']"
      ]
     },
     "execution_count": 4,
     "metadata": {},
     "output_type": "execute_result"
    }
   ],
   "source": [
    "list(weeks.keys())"
   ]
  },
  {
   "cell_type": "code",
   "execution_count": 5,
   "id": "257a6982",
   "metadata": {},
   "outputs": [
    {
     "data": {
      "text/plain": [
       "[1, 2, 3, 4, 5, 6, 7]"
      ]
     },
     "execution_count": 5,
     "metadata": {},
     "output_type": "execute_result"
    }
   ],
   "source": [
    "list(weeks.values())"
   ]
  },
  {
   "cell_type": "code",
   "execution_count": 6,
   "id": "8f30ece9",
   "metadata": {},
   "outputs": [
    {
     "name": "stdout",
     "output_type": "stream",
     "text": [
      "monday:1\n",
      "tuesdat:2\n",
      "wendnesday:3\n",
      "thursday:4\n",
      "friday:5\n",
      "sturday:6\n",
      "sunday:7\n"
     ]
    }
   ],
   "source": [
    "for (key, value) in weeks.items():\n",
    "    print(key,value,sep=\":\")\n"
   ]
  }
 ],
 "metadata": {
  "kernelspec": {
   "display_name": ".venv",
   "language": "python",
   "name": "python3"
  },
  "language_info": {
   "codemirror_mode": {
    "name": "ipython",
    "version": 3
   },
   "file_extension": ".py",
   "mimetype": "text/x-python",
   "name": "python",
   "nbconvert_exporter": "python",
   "pygments_lexer": "ipython3",
   "version": "3.13.2"
  }
 },
 "nbformat": 4,
 "nbformat_minor": 5
}
