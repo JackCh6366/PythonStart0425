{
 "cells": [
  {
   "cell_type": "markdown",
   "id": "d0db4e97",
   "metadata": {},
   "source": [
    "**請讀取names.txt**\n",
    "**將文字儲存於list內**\n",
    "**每次執行可以亂數取出3個姓名**"
   ]
  },
  {
   "cell_type": "code",
   "execution_count": 1,
   "id": "2d9a2a4d",
   "metadata": {},
   "outputs": [
    {
     "name": "stdout",
     "output_type": "stream",
     "text": [
      "隨機選出的姓名： ['元延辛', '鄧淑娟', '陳凱翔']\n"
     ]
    }
   ],
   "source": [
    "import random\n",
    "\n",
    "# 讀取 names.txt 並將每一行（去除換行符號）儲存到 list 中\n",
    "with open(\"names.txt\", \"r\", encoding=\"utf-8\") as file:\n",
    "    names = [line.strip() for line in file if line.strip()]  # 避免空行\n",
    "\n",
    "# 確保名單中至少有3個名字\n",
    "if len(names) < 3:\n",
    "    print(\"名單中不足三個姓名，請確認 names.txt 內容。\")\n",
    "else:\n",
    "    # 隨機選出 3 個不重複的姓名\n",
    "    selected_names = random.sample(names, 3)\n",
    "    print(\"隨機選出的姓名：\", selected_names)\n"
   ]
  }
 ],
 "metadata": {
  "kernelspec": {
   "display_name": ".venv",
   "language": "python",
   "name": "python3"
  },
  "language_info": {
   "codemirror_mode": {
    "name": "ipython",
    "version": 3
   },
   "file_extension": ".py",
   "mimetype": "text/x-python",
   "name": "python",
   "nbconvert_exporter": "python",
   "pygments_lexer": "ipython3",
   "version": "3.13.2"
  }
 },
 "nbformat": 4,
 "nbformat_minor": 5
}
