{
 "cells": [
  {
   "cell_type": "markdown",
   "id": "b4f00dd0",
   "metadata": {},
   "source": [
    "### *args, **kwargs\n",
    "*args -> 沒有限制數量的引數值呼叫\n",
    "**kwargs -> 沒有限制數量的引數名稱呼叫\n"
   ]
  },
  {
   "cell_type": "code",
   "execution_count": 13,
   "id": "94b3a9e1",
   "metadata": {},
   "outputs": [],
   "source": [
    "#自訂的function\n",
    "def print_args(*args):\n",
    "    print('args是tuple:',args)"
   ]
  },
  {
   "cell_type": "code",
   "execution_count": null,
   "id": "612be0e4",
   "metadata": {},
   "outputs": [
    {
     "ename": "NameError",
     "evalue": "name 'print_args' is not defined",
     "output_type": "error",
     "traceback": [
      "\u001b[31m---------------------------------------------------------------------------\u001b[39m",
      "\u001b[31mNameError\u001b[39m                                 Traceback (most recent call last)",
      "\u001b[36mCell\u001b[39m\u001b[36m \u001b[39m\u001b[32mIn[6]\u001b[39m\u001b[32m, line 2\u001b[39m\n\u001b[32m      1\u001b[39m \u001b[38;5;66;03m#沒有限制數量的`引數值的呼叫`\u001b[39;00m\n\u001b[32m----> \u001b[39m\u001b[32m2\u001b[39m \u001b[43mprint_args\u001b[49m( \u001b[32m1\u001b[39m, \u001b[32m2\u001b[39m, \u001b[32m3\u001b[39m,\u001b[33m'\u001b[39m\u001b[33ma\u001b[39m\u001b[33m'\u001b[39m,\u001b[33m'\u001b[39m\u001b[33mb\u001b[39m\u001b[33m'\u001b[39m,\u001b[33m'\u001b[39m\u001b[33mc\u001b[39m\u001b[33m'\u001b[39m,\u001b[38;5;28;01mTrue\u001b[39;00m,\u001b[38;5;28;01mFalse\u001b[39;00m)\n",
      "\u001b[31mNameError\u001b[39m: name 'print_args' is not defined"
     ]
    }
   ],
   "source": [
    "#沒有限制數量的`引數值的呼叫`\n",
    "print_args( 1, 2, 3,'a','b','c',True,False)"
   ]
  },
  {
   "cell_type": "code",
   "execution_count": 11,
   "id": "ddea8aad",
   "metadata": {},
   "outputs": [],
   "source": [
    "#自訂的function\n",
    "def print_kwargs(**kwargs):\n",
    "    print('kwargs是dict:',kwargs)"
   ]
  },
  {
   "cell_type": "code",
   "execution_count": 12,
   "id": "cb8fafb3",
   "metadata": {},
   "outputs": [
    {
     "name": "stdout",
     "output_type": "stream",
     "text": [
      "kwargs是dict: {'one': 1, 'two': 2, 'three': 3, 'four': 4}\n"
     ]
    }
   ],
   "source": [
    "#沒有限制數量的`引數名稱呼叫`\n",
    "print_kwargs(one=1, two=2, three=3, four=4)"
   ]
  },
  {
   "cell_type": "code",
   "execution_count": 15,
   "id": "5a2094b1",
   "metadata": {},
   "outputs": [],
   "source": [
    "def print_all(*args, **kwargs):\n",
    "    print('args是tuple:',args)\n",
    "    print('kwargs是dict:',kwargs)\n"
   ]
  },
  {
   "cell_type": "code",
   "execution_count": 16,
   "id": "64ff3c63",
   "metadata": {},
   "outputs": [
    {
     "name": "stdout",
     "output_type": "stream",
     "text": [
      "args是tuple: (1, 2, 3, 4, 5, 7)\n",
      "kwargs是dict: {'one': 1, 'two': 2, 'three': 3, 'four': 4}\n"
     ]
    }
   ],
   "source": [
    "print_all(1,2,3,4,5,7,one=1,two=2,three=3,four=4)"
   ]
  }
 ],
 "metadata": {
  "kernelspec": {
   "display_name": ".venv",
   "language": "python",
   "name": "python3"
  },
  "language_info": {
   "codemirror_mode": {
    "name": "ipython",
    "version": 3
   },
   "file_extension": ".py",
   "mimetype": "text/x-python",
   "name": "python",
   "nbconvert_exporter": "python",
   "pygments_lexer": "ipython3",
   "version": "3.13.2"
  }
 },
 "nbformat": 4,
 "nbformat_minor": 5
}
